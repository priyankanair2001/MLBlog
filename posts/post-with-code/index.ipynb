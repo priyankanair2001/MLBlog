{
  "cells": [
    {
      "cell_type": "raw",
      "metadata": {},
      "source": [
        "---\n",
        "title: \"Post With Code\"\n",
        "author: \"Priyanka Nair\"\n",
        "date: \"2023-11-07\"\n",
        "categories: [news, code, help]\n",
        "image: \"image.jpg\"\n",
        "---"
      ],
      "id": "f1681c57"
    },
    {
      "cell_type": "markdown",
      "metadata": {},
      "source": [
        "This is a post with executable code.\n"
      ],
      "id": "1ef6eb6b"
    },
    {
      "cell_type": "code",
      "metadata": {},
      "source": [
        "5*7\n"
      ],
      "id": "310d5df4",
      "execution_count": null,
      "outputs": []
    },
    {
      "cell_type": "code",
      "metadata": {},
      "source": [
        "5+6"
      ],
      "id": "34086865",
      "execution_count": null,
      "outputs": []
    }
  ],
  "metadata": {
    "kernelspec": {
      "display_name": "Python 3",
      "language": "python",
      "name": "python3"
    }
  },
  "nbformat": 4,
  "nbformat_minor": 5
}