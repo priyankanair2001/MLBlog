{
  "cells": [
    {
      "cell_type": "raw",
      "metadata": {},
      "source": [
        "---\n",
        "title: \"Post With Code\"\n",
        "author: \"Priyanka Nair\"\n",
        "date: \"2023-11-07\"\n",
        "categories: [news, code, help]\n",
        "image: \"image.jpg\"\n",
        "---"
      ],
      "id": "599c319e"
    },
    {
      "cell_type": "markdown",
      "metadata": {},
      "source": [
        "This is a post with executable code.\n"
      ],
      "id": "e6be0eb5"
    },
    {
      "cell_type": "code",
      "metadata": {},
      "source": [
        "# importing the required module  \n",
        "import matplotlib.pyplot as plt  \n",
        "    \n",
        "# x axis values  \n",
        "x = [1,2,3]  \n",
        "# corresponding y axis values  \n",
        "y = [2,4,1]  \n",
        "    \n",
        "# plotting the points   \n",
        "plt.plot(x, y)  \n",
        "    \n",
        "# naming the x axis  \n",
        "plt.xlabel('x - axis')  \n",
        "# naming the y axis  \n",
        "plt.ylabel('y - axis')  \n",
        "    \n",
        "# giving a title to my graph  \n",
        "plt.title('My first graph!')  \n",
        "    \n",
        "# function to show the plot  \n",
        "plt.show() \n"
      ],
      "id": "12f6c7b0",
      "execution_count": null,
      "outputs": []
    },
    {
      "cell_type": "code",
      "metadata": {},
      "source": [
        "5+6"
      ],
      "id": "40a07cbb",
      "execution_count": null,
      "outputs": []
    }
  ],
  "metadata": {
    "kernelspec": {
      "name": "python3",
      "language": "python",
      "display_name": "Python 3 (ipykernel)"
    }
  },
  "nbformat": 4,
  "nbformat_minor": 5
}