{
  "cells": [
    {
      "cell_type": "raw",
      "metadata": {},
      "source": [
        "---\n",
        "title: \"Post With Code\"\n",
        "author: \"Priyanka Nair\"\n",
        "date: \"2023-11-07\"\n",
        "categories: [news, code, help]\n",
        "image: \"image.jpg\"\n",
        "---"
      ],
      "id": "ea7639bd"
    },
    {
      "cell_type": "markdown",
      "metadata": {},
      "source": [
        "This is a post with executable code.\n"
      ],
      "id": "32c5ebc1"
    },
    {
      "cell_type": "code",
      "metadata": {},
      "source": [
        "5*7\n"
      ],
      "id": "0de758d9",
      "execution_count": null,
      "outputs": []
    },
    {
      "cell_type": "code",
      "metadata": {},
      "source": [
        "5+6"
      ],
      "id": "e4d17a30",
      "execution_count": null,
      "outputs": []
    }
  ],
  "metadata": {
    "kernelspec": {
      "display_name": "Python 3",
      "language": "python",
      "name": "python3"
    }
  },
  "nbformat": 4,
  "nbformat_minor": 5
}