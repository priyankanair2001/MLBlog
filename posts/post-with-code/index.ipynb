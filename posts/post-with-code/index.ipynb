{
  "cells": [
    {
      "cell_type": "raw",
      "metadata": {},
      "source": [
        "---\n",
        "title: Post With Code\n",
        "author: Priyanka Nair\n",
        "date: '2023-11-07'\n",
        "categories:\n",
        "  - news\n",
        "  - code\n",
        "  - help\n",
        "image: image.jpg\n",
        "---"
      ],
      "id": "b883a26d"
    },
    {
      "cell_type": "markdown",
      "metadata": {},
      "source": [
        "This is a post with executable code.\n"
      ],
      "id": "3783169f"
    },
    {
      "cell_type": "code",
      "metadata": {},
      "source": [
        "#| echo: false\n",
        "#| output: false\n",
        "import warnings\n",
        "\n",
        "warnings.filterwarnings(\"ignore\")"
      ],
      "id": "2aeceeac",
      "execution_count": null,
      "outputs": []
    },
    {
      "cell_type": "code",
      "metadata": {},
      "source": [
        "import seaborn as sns\n",
        "import matplotlib.pyplot as plt\n",
        "\n",
        "sns.set_theme(style=\"ticks\")\n",
        "\n",
        "# Initialize the figure with a logarithmic x axis\n",
        "f, ax = plt.subplots(figsize=(7, 6))\n",
        "ax.set_xscale(\"log\")\n",
        "\n",
        "# Load the example planets dataset\n",
        "planets = sns.load_dataset(\"planets\")\n",
        "\n",
        "# Plot the orbital period with horizontal boxes\n",
        "sns.boxplot(\n",
        "    planets, x=\"distance\", y=\"method\", hue=\"method\",\n",
        "    whis=[0, 100], width=.6, palette=\"vlag\"\n",
        ")\n",
        "\n",
        "# Add in points to show each observation\n",
        "sns.stripplot(planets, x=\"distance\", y=\"method\", size=4, color=\".3\")\n",
        "\n",
        "# Tweak the visual presentation\n",
        "ax.xaxis.grid(True)\n",
        "ax.set(ylabel=\"\")\n",
        "sns.despine(trim=True, left=True)"
      ],
      "id": "9fc50ca5",
      "execution_count": null,
      "outputs": []
    }
  ],
  "metadata": {
    "kernelspec": {
      "display_name": "Python 3 (ipykernel)",
      "language": "python",
      "name": "python3"
    },
    "jupytext": {
      "formats": "qmd:quarto,py:percent,md,ipynb",
      "text_representation": {
        "extension": ".qmd",
        "format_name": "quarto",
        "format_version": "1.0",
        "jupytext_version": "1.15.2"
      }
    }
  },
  "nbformat": 4,
  "nbformat_minor": 5
}